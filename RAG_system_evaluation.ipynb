{
 "cells": [
  {
   "cell_type": "markdown",
   "id": "c5da2c84-086b-45d4-a3ba-59fbd5bae525",
   "metadata": {},
   "source": [
    "# Evaluating RAGs"
   ]
  },
  {
   "cell_type": "code",
   "execution_count": null,
   "id": "0fb8d78d-729e-47c7-bcf1-291737c6024b",
   "metadata": {
    "scrolled": true
   },
   "outputs": [],
   "source": [
    "#! pip install evidently langchain langchain_community openai faiss-cpu"
   ]
  },
  {
   "cell_type": "code",
   "execution_count": null,
   "id": "7972f772-cc87-4dae-aab5-7cd6d11866b6",
   "metadata": {
    "scrolled": true
   },
   "outputs": [],
   "source": [
    "#! pip install -U langchain-openai"
   ]
  },
  {
   "cell_type": "code",
   "execution_count": null,
   "id": "d578f2ed-ad87-4cf1-b718-049f5985c4f7",
   "metadata": {},
   "outputs": [],
   "source": [
    "import random\n",
    "import requests\n",
    "import time\n",
    "import os\n",
    "import pandas as pd\n",
    "\n",
    "from langchain.text_splitter import CharacterTextSplitter\n",
    "from langchain.docstore.document import Document\n",
    "from langchain.vectorstores import FAISS\n",
    "\n",
    "from langchain_openai import OpenAIEmbeddings"
   ]
  },
  {
   "cell_type": "code",
   "execution_count": null,
   "id": "272fbbdd-5fed-4d14-a5fa-c759c22ebac1",
   "metadata": {},
   "outputs": [],
   "source": [
    "from evidently.ui.workspace import CloudWorkspace\n",
    "\n",
    "from evidently import Dataset, DataDefinition, Report\n",
    "from evidently.descriptors import *\n",
    "from evidently.presets import TextEvals\n",
    "from evidently.llm.templates import BinaryClassificationPromptTemplate"
   ]
  },
  {
   "cell_type": "code",
   "execution_count": null,
   "id": "e719be87-b425-4726-b035-b310908db1dc",
   "metadata": {},
   "outputs": [],
   "source": [
    "from openai import OpenAI"
   ]
  },
  {
   "cell_type": "code",
   "execution_count": null,
   "id": "574e3c5e-0b13-455b-805e-7d36a4913d25",
   "metadata": {},
   "outputs": [],
   "source": [
    "OA_client = OpenAI()"
   ]
  },
  {
   "cell_type": "code",
   "execution_count": null,
   "id": "37da710f-44e6-48cb-8ae3-404a842055d4",
   "metadata": {},
   "outputs": [],
   "source": [
    "client = CloudWorkspace(url=\"https://app.evidently.cloud/\")"
   ]
  },
  {
   "cell_type": "markdown",
   "id": "e0f47ccf-9043-4b36-a80f-b197910a9996",
   "metadata": {},
   "source": [
    "## Load testing dataset"
   ]
  },
  {
   "cell_type": "code",
   "execution_count": null,
   "id": "edfbcf38-7c56-476b-a891-03947a527895",
   "metadata": {},
   "outputs": [],
   "source": [
    "dataset_id = \"0196ed73-ca92-701a-bfd6-97118c6969f6\"\n",
    "testing_dataset = client.load_dataset(dataset_id)"
   ]
  },
  {
   "cell_type": "code",
   "execution_count": null,
   "id": "f6e89c39-037b-4907-bd46-47df77655fc6",
   "metadata": {},
   "outputs": [],
   "source": [
    "testing_dataset.as_dataframe()"
   ]
  },
  {
   "cell_type": "markdown",
   "id": "36156033-bf64-4b3e-a92a-3144e223d0cc",
   "metadata": {},
   "source": [
    "## Simulate RAG system"
   ]
  },
  {
   "cell_type": "code",
   "execution_count": null,
   "id": "c38c8586-2a9c-49ab-9b6c-e8e000c868ff",
   "metadata": {},
   "outputs": [],
   "source": [
    "def load_and_index_from(url):\n",
    "    # Step 1: Load file content from GitHub raw URL\n",
    "    response = requests.get(url)\n",
    "    response.raise_for_status()  # Raise error if download fails\n",
    "    content = response.text\n",
    "\n",
    "    #Split into chunks\n",
    "    text_splitter = CharacterTextSplitter(chunk_size=800, chunk_overlap=200)\n",
    "    documents = [Document(page_content=content)]\n",
    "    chunks = text_splitter.split_documents(documents)\n",
    "\n",
    "    #Generate embeddings and create FAISS index\n",
    "    embeddings = OpenAIEmbeddings()  # You can pass openai_api_key=\"...\" if needed\n",
    "    vector_store = FAISS.from_documents(chunks, embeddings)\n",
    "\n",
    "    return vector_store"
   ]
  },
  {
   "cell_type": "code",
   "execution_count": null,
   "id": "38b40092-429b-49cd-b975-ff58070abd18",
   "metadata": {},
   "outputs": [],
   "source": [
    "# Search the index for relevant information\n",
    "def search_documents(query, vector_store):\n",
    "    search_results = vector_store.similarity_search(query, k=5)  \n",
    "    context = \"\\n\".join([doc.page_content for doc in search_results])\n",
    "    return context"
   ]
  },
  {
   "cell_type": "code",
   "execution_count": null,
   "id": "138f70df-a914-4afd-8f04-b33a87de9fe6",
   "metadata": {},
   "outputs": [],
   "source": [
    "def generate_response(question, context, model=\"gpt-4o-mini\"):\n",
    "    response = OA_client.responses.create(\n",
    "        instructions=\"Your task is to answer the provided question based on the context.\",\n",
    "        model=model,\n",
    "        input=f\"The retrieved context is {context} \\n {question}\"\n",
    "    )\n",
    "\n",
    "    text = response.output_text if response else None\n",
    "    return text"
   ]
  },
  {
   "cell_type": "code",
   "execution_count": null,
   "id": "b25e0f5d-327a-459f-bd2b-ba20f29486f5",
   "metadata": {
    "scrolled": true
   },
   "outputs": [],
   "source": [
    "url = \"https://docs.evidentlyai.com/llms-full.txt\"\n",
    "vector_store = load_and_index_from(url)"
   ]
  },
  {
   "cell_type": "code",
   "execution_count": null,
   "id": "83684627-318a-4e96-8cd8-9e0bbda4d828",
   "metadata": {},
   "outputs": [],
   "source": [
    "questions = testing_dataset.as_dataframe().questions.values"
   ]
  },
  {
   "cell_type": "code",
   "execution_count": null,
   "id": "58764c47-04ec-4556-8c1e-ff49c8b4832e",
   "metadata": {},
   "outputs": [],
   "source": [
    "contexts = [search_documents(question, vector_store) for question in questions]"
   ]
  },
  {
   "cell_type": "code",
   "execution_count": null,
   "id": "859594bb-9d78-407d-9244-db75b8b1f6aa",
   "metadata": {},
   "outputs": [],
   "source": [
    "generated_answers = [\n",
    "    generate_response(question, context)\n",
    "    for question, context in zip(questions, contexts)\n",
    "]"
   ]
  },
  {
   "cell_type": "markdown",
   "id": "f2da368f-a0ad-41e4-9203-dead6de0bef1",
   "metadata": {},
   "source": [
    "## Evaluation"
   ]
  },
  {
   "cell_type": "code",
   "execution_count": null,
   "id": "31e42bac-08fe-478a-88ff-613700431d71",
   "metadata": {},
   "outputs": [],
   "source": [
    "pd.set_option('display.max_colwidth', None)"
   ]
  },
  {
   "cell_type": "code",
   "execution_count": null,
   "id": "effa6fd3-e0d4-4da6-92e4-ade5951ed687",
   "metadata": {},
   "outputs": [],
   "source": [
    "testing_frame = pd.DataFrame()\n",
    "testing_frame['question'] = questions\n",
    "testing_frame['reference_answer'] = testing_dataset.as_dataframe().answers.values\n",
    "testing_frame['generated_answer'] = generated_answers\n",
    "testing_frame['context'] = contexts"
   ]
  },
  {
   "cell_type": "code",
   "execution_count": null,
   "id": "f783a1ab-8b6c-4c18-b344-1be8003d02b2",
   "metadata": {},
   "outputs": [],
   "source": [
    "testing_frame.head()"
   ]
  },
  {
   "cell_type": "code",
   "execution_count": null,
   "id": "beae4f7f-be5d-4118-964a-8f8e34fd4453",
   "metadata": {},
   "outputs": [],
   "source": [
    "contradiction_check = BinaryClassificationPromptTemplate(\n",
    "    criteria = \"\"\"Label an ANSWER as **contradictory** only if it directly contradicts any part of the REFERENCE.\n",
    "    Differences in length or wording are acceptable. It is also acceptable if the ANSWER adds new details or omits information, as long as **no factual content contradicts** the REFERENCE.\n",
    "    Your task is to compare factual consistency only — not completeness, relevance, or style.\n",
    "    \n",
    "    REFERENCE:\n",
    "    =====\n",
    "    {reference}\n",
    "    =====\n",
    "    \"\"\",\n",
    "    target_category = \"contradictory\",\n",
    "    non_target_category = \"non-contradictory\",\n",
    "    uncertainty = \"unknown\",\n",
    "    include_reasoning = True,\n",
    "    pre_messages = [(\"system\", \"You are an expert evaluator. You will be given an ANSWER and REFERENCE.\")]\n",
    ")\n"
   ]
  },
  {
   "cell_type": "code",
   "execution_count": null,
   "id": "dfee85f7-5268-44a3-a50a-fe3ade0054d6",
   "metadata": {},
   "outputs": [],
   "source": [
    "testing_dataset = Dataset.from_pandas(\n",
    "    testing_frame,\n",
    "    data_definition=DataDefinition(),\n",
    "    descriptors=[\n",
    "        FaithfulnessLLMEval(\"generated_answer\", context=\"context\"),\n",
    "        LLMEval(\"generated_answer\", template=contradiction_check, additional_columns={\"reference_answer\": \"reference\"},\n",
    "                provider = \"openai\", model = \"gpt-4o-mini\", alias=\"Contradictions\"),\n",
    "    ]\n",
    ")"
   ]
  },
  {
   "cell_type": "code",
   "execution_count": null,
   "id": "6838ec9c-36b6-4288-b252-d9d9d8fade66",
   "metadata": {
    "scrolled": true
   },
   "outputs": [],
   "source": [
    "testing_dataset.as_dataframe()"
   ]
  },
  {
   "cell_type": "code",
   "execution_count": null,
   "id": "0e11b49c-fe10-4445-9239-6bfe6b20b5b9",
   "metadata": {
    "scrolled": true
   },
   "outputs": [],
   "source": [
    "report = Report([\n",
    "    TextEvals()\n",
    "])\n",
    "\n",
    "my_eval = report.run(testing_dataset, None)\n",
    "my_eval"
   ]
  },
  {
   "cell_type": "code",
   "execution_count": null,
   "id": "468c5b00-d4d8-4009-907b-c9d74337a90b",
   "metadata": {},
   "outputs": [],
   "source": [
    "#PROJECT_ID = \"0196ed70-883c-72b9-ad31-c5b212dd02f0\"\n",
    "#client.add_run(PROJECT_ID, my_eval, include_data=True)"
   ]
  },
  {
   "cell_type": "code",
   "execution_count": null,
   "id": "131e5c7f-ce75-4ca7-934c-c1fc00bed6e6",
   "metadata": {},
   "outputs": [],
   "source": []
  }
 ],
 "metadata": {
  "kernelspec": {
   "display_name": "Python 3 (ipykernel)",
   "language": "python",
   "name": "python3"
  },
  "language_info": {
   "codemirror_mode": {
    "name": "ipython",
    "version": 3
   },
   "file_extension": ".py",
   "mimetype": "text/x-python",
   "name": "python",
   "nbconvert_exporter": "python",
   "pygments_lexer": "ipython3",
   "version": "3.13.5"
  }
 },
 "nbformat": 4,
 "nbformat_minor": 5
}
