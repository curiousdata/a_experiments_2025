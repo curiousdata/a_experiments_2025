{
 "cells": [
  {
   "cell_type": "code",
   "execution_count": null,
   "id": "0d1e0fd5-4178-4e24-a00e-7acce27c7e68",
   "metadata": {},
   "outputs": [],
   "source": [
    "import requests\n",
    "import pandas as pd\n",
    "import numpy as np\n",
    "from sklearn.linear_model import Ridge, Lasso, LinearRegression\n",
    "from sklearn.metrics import root_mean_squared_error\n",
    "import xgboost\n",
    "import optuna\n",
    "import pickle"
   ]
  },
  {
   "cell_type": "markdown",
   "id": "88e16ed1-d16b-46ec-9a6c-ce9917cf5994",
   "metadata": {},
   "source": [
    "## Data Loading"
   ]
  },
  {
   "cell_type": "code",
   "execution_count": null,
   "id": "a1db414c-d9af-4f18-b757-c5622831120f",
   "metadata": {},
   "outputs": [],
   "source": [
    "!mkdir data"
   ]
  },
  {
   "cell_type": "code",
   "execution_count": null,
   "id": "6706b9ff-d0ec-487b-b1cb-504a84946195",
   "metadata": {},
   "outputs": [],
   "source": [
    "!mkdir models"
   ]
  },
  {
   "cell_type": "code",
   "execution_count": null,
   "id": "aaa659d6-4203-4acf-bc1d-b8b513aa2840",
   "metadata": {},
   "outputs": [],
   "source": [
    "files = [('green_tripdata_2024-10.parquet', './data'), \n",
    "         ('green_tripdata_2024-11.parquet', './data')]\n",
    "\n",
    "print(\"Downloading started:...\")\n",
    "\n",
    "for file, path in files:\n",
    "    url = f\"https://d37ci6vzurychx.cloudfront.net/trip-data/{file}\"\n",
    "    save_path = f\"{path}/{file}\"\n",
    "    response = requests.get(url, stream=True)\n",
    "\n",
    "    with open(save_path, \"wb\") as handle:\n",
    "        for data in response.iter_content(chunk_size=1024):\n",
    "            handle.write(data)\n",
    "    "
   ]
  },
  {
   "cell_type": "code",
   "execution_count": null,
   "id": "829fd59b-a29e-42df-ae4b-a99824f1c6cd",
   "metadata": {},
   "outputs": [],
   "source": [
    "train_data = pd.read_parquet(\"data/green_tripdata_2024-10.parquet\")\n",
    "test_data = pd.read_parquet(\"data/green_tripdata_2024-11.parquet\")"
   ]
  },
  {
   "cell_type": "code",
   "execution_count": null,
   "id": "08ff5f47-66f7-4b6c-91c2-6f34e8d4b82c",
   "metadata": {},
   "outputs": [],
   "source": [
    "train_data.head()"
   ]
  },
  {
   "cell_type": "code",
   "execution_count": null,
   "id": "f874aea5-3e18-45ed-8605-2b355a158ccd",
   "metadata": {},
   "outputs": [],
   "source": [
    "train_data.info()"
   ]
  },
  {
   "cell_type": "code",
   "execution_count": null,
   "id": "99e29fc9-dd5f-4930-9ee9-38c4aef7905d",
   "metadata": {},
   "outputs": [],
   "source": [
    "num_features = ['total_amount', 'trip_distance', 'passenger_count']\n",
    "cat_features = ['PULocationID', 'DOLocationID']"
   ]
  },
  {
   "cell_type": "code",
   "execution_count": null,
   "id": "1048aae3-c152-4207-91b9-9439c4d2c8aa",
   "metadata": {},
   "outputs": [],
   "source": [
    "def preprocessing(data):\n",
    "    data['duration'] = data['lpep_dropoff_datetime'] - data['lpep_pickup_datetime']\n",
    "    data.duration = data.duration.apply(lambda td: td.total_seconds()/60)\n",
    "    data = data[(data.duration >= 3.) & (data.duration <= 90.)] \n",
    "    data.fillna(0, inplace=True) #maybe debug this later\n",
    "    return data"
   ]
  },
  {
   "cell_type": "code",
   "execution_count": null,
   "id": "9d075943-1991-4db9-8049-93be929acfec",
   "metadata": {},
   "outputs": [],
   "source": [
    "with open('models/preprocessing.bin', 'wb') as f_out:\n",
    "    pickle.dump(preprocessing, f_out)"
   ]
  },
  {
   "cell_type": "code",
   "execution_count": null,
   "id": "437139e8-25ad-4913-8a20-f84c714db966",
   "metadata": {},
   "outputs": [],
   "source": [
    "X_train = preprocessing(train_data)[num_features + cat_features]\n",
    "y_train = preprocessing(train_data)['duration']\n",
    "\n",
    "X_test = preprocessing(test_data)[num_features + cat_features]\n",
    "y_test = preprocessing(test_data)['duration']"
   ]
  },
  {
   "cell_type": "markdown",
   "id": "3f7331b5-2afb-4603-93e3-41654a517197",
   "metadata": {},
   "source": [
    "## Baseline model"
   ]
  },
  {
   "cell_type": "code",
   "execution_count": null,
   "id": "12311725-5f4c-4bd0-875a-c931d4b47eeb",
   "metadata": {},
   "outputs": [],
   "source": [
    "model = LinearRegression()\n",
    "model.fit(X_train, y_train)"
   ]
  },
  {
   "cell_type": "code",
   "execution_count": null,
   "id": "6f50e959-3518-4c86-b56e-552f5ee13fd9",
   "metadata": {},
   "outputs": [],
   "source": [
    "train_pred = model.predict(X_train)\n",
    "root_mean_squared_error(train_pred, y_train)"
   ]
  },
  {
   "cell_type": "code",
   "execution_count": null,
   "id": "3149e4c8-dd51-41f4-a3de-e2699ba36ff4",
   "metadata": {},
   "outputs": [],
   "source": [
    "test_pred = model.predict(X_test)\n",
    "root_mean_squared_error(test_pred, y_test)"
   ]
  },
  {
   "cell_type": "code",
   "execution_count": null,
   "id": "d1e385c7-1ffa-4f35-865a-a5a6371435a4",
   "metadata": {},
   "outputs": [],
   "source": [
    "test_pred.mean(), test_pred.std()"
   ]
  },
  {
   "cell_type": "code",
   "execution_count": null,
   "id": "298fa92d-91c6-44d0-966d-62099f00c43e",
   "metadata": {},
   "outputs": [],
   "source": []
  }
 ],
 "metadata": {
  "kernelspec": {
   "display_name": "Python 3 (ipykernel)",
   "language": "python",
   "name": "python3"
  },
  "language_info": {
   "codemirror_mode": {
    "name": "ipython",
    "version": 3
   },
   "file_extension": ".py",
   "mimetype": "text/x-python",
   "name": "python",
   "nbconvert_exporter": "python",
   "pygments_lexer": "ipython3",
   "version": "3.13.5"
  }
 },
 "nbformat": 4,
 "nbformat_minor": 5
}
