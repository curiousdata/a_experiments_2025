{
 "cells": [
  {
   "cell_type": "markdown",
   "id": "66a5f9ef-444e-40c9-b02c-0894959ac112",
   "metadata": {},
   "source": [
    "## How to run a model as a python function?"
   ]
  },
  {
   "cell_type": "code",
   "execution_count": 22,
   "id": "35a07f64-97bc-472d-a3c2-4d9b6607bbbf",
   "metadata": {},
   "outputs": [],
   "source": [
    "import mlflow\n",
    "import pandas as pd\n",
    "import numpy as np"
   ]
  },
  {
   "cell_type": "code",
   "execution_count": null,
   "id": "e8ef18c9-2829-4be9-bd8d-05b2226cbe0b",
   "metadata": {},
   "outputs": [],
   "source": [
    "run_id = \"/Users/emelidral/Dev/a_experiments_2025/mlruns/1/models/m-26808bb593d7492189f4a70d1f5abb98/artifacts\""
   ]
  },
  {
   "cell_type": "code",
   "execution_count": 3,
   "id": "38e20a24-693b-4f6c-ac68-d4270d831dba",
   "metadata": {},
   "outputs": [],
   "source": [
    "logged_model = mlflow.pyfunc.load_model(run_id)"
   ]
  },
  {
   "cell_type": "code",
   "execution_count": 27,
   "id": "00176391-24d6-4608-bd6f-036aa3c18e1a",
   "metadata": {},
   "outputs": [],
   "source": [
    "the_object = {\n",
    "\"total_amount\":98.05,\n",
    "\"trip_distance\":19.60,\n",
    "\"passenger_count\":np.int64(1),\n",
    "\"PULocationID\":np.int32(74),\n",
    "\"DOLocationID\":np.int32(132),\n",
    "}"
   ]
  },
  {
   "cell_type": "code",
   "execution_count": 28,
   "id": "a36030f8-1d37-4886-80e0-fbfab0637a6c",
   "metadata": {},
   "outputs": [],
   "source": [
    "frame = pd.DataFrame.from_dict([the_object])"
   ]
  },
  {
   "cell_type": "code",
   "execution_count": 25,
   "id": "05eedbf2-ec71-400b-97ce-aac64278b94a",
   "metadata": {},
   "outputs": [
    {
     "data": {
      "text/html": [
       "<div>\n",
       "<style scoped>\n",
       "    .dataframe tbody tr th:only-of-type {\n",
       "        vertical-align: middle;\n",
       "    }\n",
       "\n",
       "    .dataframe tbody tr th {\n",
       "        vertical-align: top;\n",
       "    }\n",
       "\n",
       "    .dataframe thead th {\n",
       "        text-align: right;\n",
       "    }\n",
       "</style>\n",
       "<table border=\"1\" class=\"dataframe\">\n",
       "  <thead>\n",
       "    <tr style=\"text-align: right;\">\n",
       "      <th></th>\n",
       "      <th>total_amount</th>\n",
       "      <th>trip_distance</th>\n",
       "      <th>passenger_count</th>\n",
       "      <th>PULocationID</th>\n",
       "      <th>DOLocationID</th>\n",
       "    </tr>\n",
       "  </thead>\n",
       "  <tbody>\n",
       "    <tr>\n",
       "      <th>0</th>\n",
       "      <td>98.05</td>\n",
       "      <td>19.6</td>\n",
       "      <td>1</td>\n",
       "      <td>74</td>\n",
       "      <td>132</td>\n",
       "    </tr>\n",
       "  </tbody>\n",
       "</table>\n",
       "</div>"
      ],
      "text/plain": [
       "   total_amount  trip_distance  passenger_count  PULocationID  DOLocationID\n",
       "0         98.05           19.6                1            74           132"
      ]
     },
     "execution_count": 25,
     "metadata": {},
     "output_type": "execute_result"
    }
   ],
   "source": [
    "frame"
   ]
  },
  {
   "cell_type": "code",
   "execution_count": 29,
   "id": "5cef2222-e2b1-48df-81e0-a237b72244ee",
   "metadata": {},
   "outputs": [
    {
     "data": {
      "text/plain": [
       "array([51.08917158])"
      ]
     },
     "execution_count": 29,
     "metadata": {},
     "output_type": "execute_result"
    }
   ],
   "source": [
    "logged_model.predict(frame)"
   ]
  },
  {
   "cell_type": "code",
   "execution_count": null,
   "id": "c3e6a31c-7d1d-465e-8905-67873eb3acea",
   "metadata": {},
   "outputs": [],
   "source": []
  }
 ],
 "metadata": {
  "kernelspec": {
   "display_name": "Python 3 (ipykernel)",
   "language": "python",
   "name": "python3"
  },
  "language_info": {
   "codemirror_mode": {
    "name": "ipython",
    "version": 3
   },
   "file_extension": ".py",
   "mimetype": "text/x-python",
   "name": "python",
   "nbconvert_exporter": "python",
   "pygments_lexer": "ipython3",
   "version": "3.13.5"
  }
 },
 "nbformat": 4,
 "nbformat_minor": 5
}
